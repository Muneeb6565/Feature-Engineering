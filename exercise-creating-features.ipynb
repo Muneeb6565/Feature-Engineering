{
 "cells": [
  {
   "cell_type": "markdown",
   "id": "3cc6916d",
   "metadata": {
    "papermill": {
     "duration": 0.007206,
     "end_time": "2023-01-27T10:42:55.270831",
     "exception": false,
     "start_time": "2023-01-27T10:42:55.263625",
     "status": "completed"
    },
    "tags": []
   },
   "source": [
    "**This notebook is an exercise in the [Feature Engineering](https://www.kaggle.com/learn/feature-engineering) course.  You can reference the tutorial at [this link](https://www.kaggle.com/ryanholbrook/creating-features).**\n",
    "\n",
    "---\n"
   ]
  },
  {
   "cell_type": "markdown",
   "id": "683a5d8c",
   "metadata": {
    "papermill": {
     "duration": 0.005266,
     "end_time": "2023-01-27T10:42:55.281883",
     "exception": false,
     "start_time": "2023-01-27T10:42:55.276617",
     "status": "completed"
    },
    "tags": []
   },
   "source": [
    "# Introduction #\n",
    "\n",
    "In this exercise you'll start developing the features you identified in Exercise 2 as having the most potential. As you work through this exercise, you might take a moment to look at the data documentation again and consider whether the features we're creating make sense from a real-world perspective, and whether there are any useful combinations that stand out to you.\n",
    "\n",
    "Run this cell to set everything up!"
   ]
  },
  {
   "cell_type": "code",
   "execution_count": 1,
   "id": "300751ab",
   "metadata": {
    "execution": {
     "iopub.execute_input": "2023-01-27T10:42:55.295927Z",
     "iopub.status.busy": "2023-01-27T10:42:55.294545Z",
     "iopub.status.idle": "2023-01-27T10:42:56.843329Z",
     "shell.execute_reply": "2023-01-27T10:42:56.842012Z"
    },
    "papermill": {
     "duration": 1.559001,
     "end_time": "2023-01-27T10:42:56.846585",
     "exception": false,
     "start_time": "2023-01-27T10:42:55.287584",
     "status": "completed"
    },
    "tags": []
   },
   "outputs": [],
   "source": [
    "# Setup feedback system\n",
    "from learntools.core import binder\n",
    "binder.bind(globals())\n",
    "from learntools.feature_engineering_new.ex3 import *\n",
    "\n",
    "import numpy as np\n",
    "import pandas as pd\n",
    "from sklearn.model_selection import cross_val_score\n",
    "from xgboost import XGBRegressor\n",
    "\n",
    "\n",
    "def score_dataset(X, y, model=XGBRegressor()):\n",
    "    # Label encoding for categoricals\n",
    "    for colname in X.select_dtypes([\"category\", \"object\"]):\n",
    "        X[colname], _ = X[colname].factorize()\n",
    "    # Metric for Housing competition is RMSLE (Root Mean Squared Log Error)\n",
    "    score = cross_val_score(\n",
    "        model, X, y, cv=5, scoring=\"neg_mean_squared_log_error\",\n",
    "    )\n",
    "    score = -1 * score.mean()\n",
    "    score = np.sqrt(score)\n",
    "    return score\n",
    "\n",
    "\n",
    "# Prepare data\n",
    "df = pd.read_csv(\"../input/fe-course-data/ames.csv\")\n",
    "X = df.copy()\n",
    "y = X.pop(\"SalePrice\")"
   ]
  },
  {
   "cell_type": "markdown",
   "id": "715b1449",
   "metadata": {
    "papermill": {
     "duration": 0.005411,
     "end_time": "2023-01-27T10:42:56.857634",
     "exception": false,
     "start_time": "2023-01-27T10:42:56.852223",
     "status": "completed"
    },
    "tags": []
   },
   "source": [
    "-------------------------------------------------------------------------------\n",
    "\n",
    "Let's start with a few mathematical combinations. We'll focus on features describing areas -- having the same units (square-feet) makes it easy to combine them in sensible ways. Since we're using XGBoost (a tree-based model), we'll focus on ratios and sums.\n",
    "\n",
    "# 1) Create Mathematical Transforms\n",
    "\n",
    "Create the following features:\n",
    "\n",
    "- `LivLotRatio`: the ratio of `GrLivArea` to `LotArea`\n",
    "- `Spaciousness`: the sum of `FirstFlrSF` and `SecondFlrSF` divided by `TotRmsAbvGrd`\n",
    "- `TotalOutsideSF`: the sum of `WoodDeckSF`, `OpenPorchSF`, `EnclosedPorch`, `Threeseasonporch`, and `ScreenPorch`"
   ]
  },
  {
   "cell_type": "code",
   "execution_count": 2,
   "id": "320c3c58",
   "metadata": {
    "execution": {
     "iopub.execute_input": "2023-01-27T10:42:56.870629Z",
     "iopub.status.busy": "2023-01-27T10:42:56.870243Z",
     "iopub.status.idle": "2023-01-27T10:42:56.898510Z",
     "shell.execute_reply": "2023-01-27T10:42:56.897262Z"
    },
    "lines_to_next_cell": 0,
    "papermill": {
     "duration": 0.038523,
     "end_time": "2023-01-27T10:42:56.901824",
     "exception": false,
     "start_time": "2023-01-27T10:42:56.863301",
     "status": "completed"
    },
    "tags": []
   },
   "outputs": [
    {
     "data": {
      "application/javascript": [
       "parent.postMessage({\"jupyterEvent\": \"custom.exercise_interaction\", \"data\": {\"outcomeType\": 1, \"valueTowardsCompletion\": 0.2, \"interactionType\": 1, \"questionType\": 2, \"questionId\": \"1_Q1\", \"learnToolsVersion\": \"0.3.4\", \"failureMessage\": \"\", \"exceptionClass\": \"\", \"trace\": \"\"}}, \"*\")"
      ],
      "text/plain": [
       "<IPython.core.display.Javascript object>"
      ]
     },
     "metadata": {},
     "output_type": "display_data"
    },
    {
     "data": {
      "text/markdown": [
       "<span style=\"color:#33cc33\">Correct</span>"
      ],
      "text/plain": [
       "Correct"
      ]
     },
     "metadata": {},
     "output_type": "display_data"
    }
   ],
   "source": [
    "# YOUR CODE HERE\n",
    "X_1 = pd.DataFrame()  # dataframe to hold new features\n",
    "\n",
    "X_1[\"LivLotRatio\"] = df.GrLivArea / df.LotArea\n",
    "X_1[\"Spaciousness\"] = (df.FirstFlrSF + df.SecondFlrSF) / df.TotRmsAbvGrd\n",
    "X_1[\"TotalOutsideSF\"] = df.WoodDeckSF + df.OpenPorchSF + df.EnclosedPorch + df.Threeseasonporch + df.ScreenPorch\n",
    "# Check your answer\n",
    "q_1.check()"
   ]
  },
  {
   "cell_type": "code",
   "execution_count": 3,
   "id": "33a8b442",
   "metadata": {
    "execution": {
     "iopub.execute_input": "2023-01-27T10:42:56.915512Z",
     "iopub.status.busy": "2023-01-27T10:42:56.915121Z",
     "iopub.status.idle": "2023-01-27T10:42:56.925149Z",
     "shell.execute_reply": "2023-01-27T10:42:56.923934Z"
    },
    "lines_to_next_cell": 0,
    "papermill": {
     "duration": 0.019901,
     "end_time": "2023-01-27T10:42:56.927784",
     "exception": false,
     "start_time": "2023-01-27T10:42:56.907883",
     "status": "completed"
    },
    "tags": []
   },
   "outputs": [
    {
     "data": {
      "application/javascript": [
       "parent.postMessage({\"jupyterEvent\": \"custom.exercise_interaction\", \"data\": {\"interactionType\": 3, \"questionType\": 2, \"questionId\": \"1_Q1\", \"learnToolsVersion\": \"0.3.4\", \"valueTowardsCompletion\": 0.0, \"failureMessage\": \"\", \"exceptionClass\": \"\", \"trace\": \"\", \"outcomeType\": 4}}, \"*\")"
      ],
      "text/plain": [
       "<IPython.core.display.Javascript object>"
      ]
     },
     "metadata": {},
     "output_type": "display_data"
    },
    {
     "data": {
      "text/markdown": [
       "<span style=\"color:#33cc99\">Solution:</span> \n",
       "```python\n",
       "\n",
       "X_1[\"LivLotRatio\"] = df.GrLivArea / df.LotArea\n",
       "X_1[\"Spaciousness\"] = (df.FirstFlrSF + df.SecondFlrSF) / df.TotRmsAbvGrd\n",
       "X_1[\"TotalOutsideSF\"] = df.WoodDeckSF + df.OpenPorchSF + df.EnclosedPorch + df.Threeseasonporch + df.ScreenPorch\n",
       "\n",
       "```"
      ],
      "text/plain": [
       "Solution: \n",
       "```python\n",
       "\n",
       "X_1[\"LivLotRatio\"] = df.GrLivArea / df.LotArea\n",
       "X_1[\"Spaciousness\"] = (df.FirstFlrSF + df.SecondFlrSF) / df.TotRmsAbvGrd\n",
       "X_1[\"TotalOutsideSF\"] = df.WoodDeckSF + df.OpenPorchSF + df.EnclosedPorch + df.Threeseasonporch + df.ScreenPorch\n",
       "\n",
       "```"
      ]
     },
     "metadata": {},
     "output_type": "display_data"
    }
   ],
   "source": [
    "# Lines below will give you a hint or solution code\n",
    "#q_1.hint()\n",
    "q_1.solution()"
   ]
  },
  {
   "cell_type": "markdown",
   "id": "7592a7a5",
   "metadata": {
    "papermill": {
     "duration": 0.006121,
     "end_time": "2023-01-27T10:42:56.940462",
     "exception": false,
     "start_time": "2023-01-27T10:42:56.934341",
     "status": "completed"
    },
    "tags": []
   },
   "source": [
    "-------------------------------------------------------------------------------\n",
    "\n",
    "If you've discovered an interaction effect between a numeric feature and a categorical feature, you might want to model it explicitly using a one-hot encoding, like so:\n",
    "\n",
    "```\n",
    "# One-hot encode Categorical feature, adding a column prefix \"Cat\"\n",
    "X_new = pd.get_dummies(df.Categorical, prefix=\"Cat\")\n",
    "\n",
    "# Multiply row-by-row\n",
    "X_new = X_new.mul(df.Continuous, axis=0)\n",
    "\n",
    "# Join the new features to the feature set\n",
    "X = X.join(X_new)\n",
    "```\n",
    "\n",
    "# 2) Interaction with a Categorical\n",
    "\n",
    "We discovered an interaction between `BldgType` and `GrLivArea` in Exercise 2. Now create their interaction features."
   ]
  },
  {
   "cell_type": "code",
   "execution_count": 4,
   "id": "3a8165c7",
   "metadata": {
    "execution": {
     "iopub.execute_input": "2023-01-27T10:42:56.954696Z",
     "iopub.status.busy": "2023-01-27T10:42:56.954304Z",
     "iopub.status.idle": "2023-01-27T10:42:56.987306Z",
     "shell.execute_reply": "2023-01-27T10:42:56.986105Z"
    },
    "lines_to_next_cell": 0,
    "papermill": {
     "duration": 0.042807,
     "end_time": "2023-01-27T10:42:56.989542",
     "exception": false,
     "start_time": "2023-01-27T10:42:56.946735",
     "status": "completed"
    },
    "tags": []
   },
   "outputs": [
    {
     "name": "stdout",
     "output_type": "stream",
     "text": [
      "      Bldg_Duplex  Bldg_OneFam  Bldg_Twnhs  Bldg_TwnhsE  Bldg_TwoFmCon\n",
      "2187          0.0        774.0         0.0          0.0            0.0\n",
      "680           0.0       1041.0         0.0          0.0            0.0\n",
      "1291          0.0          0.0         0.0          0.0         1594.0\n",
      "1618          0.0       1600.0         0.0          0.0            0.0\n",
      "2117          0.0       2087.0         0.0          0.0            0.0\n",
      "1704          0.0       2100.0         0.0          0.0            0.0\n",
      "621           0.0       1113.0         0.0          0.0            0.0\n",
      "2392          0.0       2253.0         0.0          0.0            0.0\n",
      "1676          0.0          0.0      1218.0          0.0            0.0\n",
      "329           0.0          0.0      1092.0          0.0            0.0\n",
      "^^^^^^^^^^^^^^^^^^^^^^^^^^^^\n",
      "OneFam      2425\n",
      "TwnhsE       233\n",
      "Duplex       109\n",
      "Twnhs        101\n",
      "TwoFmCon      62\n",
      "Name: BldgType, dtype: int64\n"
     ]
    },
    {
     "data": {
      "application/javascript": [
       "parent.postMessage({\"jupyterEvent\": \"custom.exercise_interaction\", \"data\": {\"outcomeType\": 1, \"valueTowardsCompletion\": 0.2, \"interactionType\": 1, \"questionType\": 2, \"questionId\": \"2_Q2\", \"learnToolsVersion\": \"0.3.4\", \"failureMessage\": \"\", \"exceptionClass\": \"\", \"trace\": \"\"}}, \"*\")"
      ],
      "text/plain": [
       "<IPython.core.display.Javascript object>"
      ]
     },
     "metadata": {},
     "output_type": "display_data"
    },
    {
     "data": {
      "text/markdown": [
       "<span style=\"color:#33cc33\">Correct</span>"
      ],
      "text/plain": [
       "Correct"
      ]
     },
     "metadata": {},
     "output_type": "display_data"
    }
   ],
   "source": [
    "# YOUR CODE HERE\n",
    "# One-hot encode BldgType. Use `prefix=\"Bldg\"` in `get_dummies`\n",
    "\n",
    "X_2 = pd.get_dummies(df.BldgType, prefix=\"Bldg\")\n",
    "X_2 = X_2.mul(df.GrLivArea, axis=0)\n",
    "print(X_2.sample(10))\n",
    "print(\"^^^^^^^^^^^^^^^^^^^^^^^^^^^^\")\n",
    "print(df.BldgType.value_counts())\n",
    "\n",
    "\n",
    "\n",
    "# Check your answer\n",
    "q_2.check()"
   ]
  },
  {
   "cell_type": "code",
   "execution_count": 5,
   "id": "8eddba0b",
   "metadata": {
    "execution": {
     "iopub.execute_input": "2023-01-27T10:42:57.009346Z",
     "iopub.status.busy": "2023-01-27T10:42:57.008487Z",
     "iopub.status.idle": "2023-01-27T10:42:57.020805Z",
     "shell.execute_reply": "2023-01-27T10:42:57.019386Z"
    },
    "lines_to_next_cell": 0,
    "papermill": {
     "duration": 0.027446,
     "end_time": "2023-01-27T10:42:57.024280",
     "exception": false,
     "start_time": "2023-01-27T10:42:56.996834",
     "status": "completed"
    },
    "tags": []
   },
   "outputs": [
    {
     "data": {
      "application/javascript": [
       "parent.postMessage({\"jupyterEvent\": \"custom.exercise_interaction\", \"data\": {\"interactionType\": 3, \"questionType\": 2, \"questionId\": \"2_Q2\", \"learnToolsVersion\": \"0.3.4\", \"valueTowardsCompletion\": 0.0, \"failureMessage\": \"\", \"exceptionClass\": \"\", \"trace\": \"\", \"outcomeType\": 4}}, \"*\")"
      ],
      "text/plain": [
       "<IPython.core.display.Javascript object>"
      ]
     },
     "metadata": {},
     "output_type": "display_data"
    },
    {
     "data": {
      "text/markdown": [
       "<span style=\"color:#33cc99\">Solution:</span> \n",
       "```python\n",
       "\n",
       "X_2 = pd.get_dummies(df.BldgType, prefix=\"Bldg\")\n",
       "X_2 = X_2.mul(df.GrLivArea, axis=0)\n",
       "\n",
       "```"
      ],
      "text/plain": [
       "Solution: \n",
       "```python\n",
       "\n",
       "X_2 = pd.get_dummies(df.BldgType, prefix=\"Bldg\")\n",
       "X_2 = X_2.mul(df.GrLivArea, axis=0)\n",
       "\n",
       "```"
      ]
     },
     "metadata": {},
     "output_type": "display_data"
    }
   ],
   "source": [
    "# Lines below will give you a hint or solution code\n",
    "#q_2.hint()\n",
    "q_2.solution()"
   ]
  },
  {
   "cell_type": "markdown",
   "id": "ef01a135",
   "metadata": {
    "lines_to_next_cell": 0,
    "papermill": {
     "duration": 0.006392,
     "end_time": "2023-01-27T10:42:57.037503",
     "exception": false,
     "start_time": "2023-01-27T10:42:57.031111",
     "status": "completed"
    },
    "tags": []
   },
   "source": [
    "# 3) Count Feature\n",
    "\n",
    "Let's try creating a feature that describes how many kinds of outdoor areas a dwelling has. Create a feature `PorchTypes` that counts how many of the following are greater than 0.0:\n",
    "\n",
    "```\n",
    "WoodDeckSF\n",
    "OpenPorchSF\n",
    "EnclosedPorch\n",
    "Threeseasonporch\n",
    "ScreenPorch\n",
    "```"
   ]
  },
  {
   "cell_type": "code",
   "execution_count": 6,
   "id": "182dd225",
   "metadata": {
    "execution": {
     "iopub.execute_input": "2023-01-27T10:42:57.058144Z",
     "iopub.status.busy": "2023-01-27T10:42:57.057532Z",
     "iopub.status.idle": "2023-01-27T10:42:57.076749Z",
     "shell.execute_reply": "2023-01-27T10:42:57.075933Z"
    },
    "lines_to_next_cell": 0,
    "papermill": {
     "duration": 0.04035,
     "end_time": "2023-01-27T10:42:57.084601",
     "exception": false,
     "start_time": "2023-01-27T10:42:57.044251",
     "status": "completed"
    },
    "tags": []
   },
   "outputs": [
    {
     "data": {
      "application/javascript": [
       "parent.postMessage({\"jupyterEvent\": \"custom.exercise_interaction\", \"data\": {\"outcomeType\": 1, \"valueTowardsCompletion\": 0.2, \"interactionType\": 1, \"questionType\": 2, \"questionId\": \"3_Q3\", \"learnToolsVersion\": \"0.3.4\", \"failureMessage\": \"\", \"exceptionClass\": \"\", \"trace\": \"\"}}, \"*\")"
      ],
      "text/plain": [
       "<IPython.core.display.Javascript object>"
      ]
     },
     "metadata": {},
     "output_type": "display_data"
    },
    {
     "data": {
      "text/markdown": [
       "<span style=\"color:#33cc33\">Correct</span>"
      ],
      "text/plain": [
       "Correct"
      ]
     },
     "metadata": {},
     "output_type": "display_data"
    }
   ],
   "source": [
    "X_3 = pd.DataFrame()\n",
    "\n",
    "# YOUR CODE HERE\n",
    "X_3[\"PorchTypes\"] = df[[\n",
    "    \"WoodDeckSF\",\n",
    "    \"OpenPorchSF\",\n",
    "    \"EnclosedPorch\",\n",
    "    \"Threeseasonporch\",\n",
    "    \"ScreenPorch\",\n",
    "]].gt(0.0).sum(axis=1)\n",
    "\n",
    "\n",
    "# Check your answer\n",
    "q_3.check()"
   ]
  },
  {
   "cell_type": "code",
   "execution_count": 7,
   "id": "e8b2a645",
   "metadata": {
    "execution": {
     "iopub.execute_input": "2023-01-27T10:42:57.103416Z",
     "iopub.status.busy": "2023-01-27T10:42:57.102578Z",
     "iopub.status.idle": "2023-01-27T10:42:57.114819Z",
     "shell.execute_reply": "2023-01-27T10:42:57.113522Z"
    },
    "lines_to_next_cell": 0,
    "papermill": {
     "duration": 0.025046,
     "end_time": "2023-01-27T10:42:57.117341",
     "exception": false,
     "start_time": "2023-01-27T10:42:57.092295",
     "status": "completed"
    },
    "tags": []
   },
   "outputs": [
    {
     "data": {
      "application/javascript": [
       "parent.postMessage({\"jupyterEvent\": \"custom.exercise_interaction\", \"data\": {\"interactionType\": 3, \"questionType\": 2, \"questionId\": \"3_Q3\", \"learnToolsVersion\": \"0.3.4\", \"valueTowardsCompletion\": 0.0, \"failureMessage\": \"\", \"exceptionClass\": \"\", \"trace\": \"\", \"outcomeType\": 4}}, \"*\")"
      ],
      "text/plain": [
       "<IPython.core.display.Javascript object>"
      ]
     },
     "metadata": {},
     "output_type": "display_data"
    },
    {
     "data": {
      "text/markdown": [
       "<span style=\"color:#33cc99\">Solution:</span> \n",
       "```python\n",
       "\n",
       "X_3 = pd.DataFrame()\n",
       "\n",
       "X_3[\"PorchTypes\"] = df[[\n",
       "    \"WoodDeckSF\",\n",
       "    \"OpenPorchSF\",\n",
       "    \"EnclosedPorch\",\n",
       "    \"Threeseasonporch\",\n",
       "    \"ScreenPorch\",\n",
       "]].gt(0.0).sum(axis=1)\n",
       "\n",
       "```"
      ],
      "text/plain": [
       "Solution: \n",
       "```python\n",
       "\n",
       "X_3 = pd.DataFrame()\n",
       "\n",
       "X_3[\"PorchTypes\"] = df[[\n",
       "    \"WoodDeckSF\",\n",
       "    \"OpenPorchSF\",\n",
       "    \"EnclosedPorch\",\n",
       "    \"Threeseasonporch\",\n",
       "    \"ScreenPorch\",\n",
       "]].gt(0.0).sum(axis=1)\n",
       "\n",
       "```"
      ]
     },
     "metadata": {},
     "output_type": "display_data"
    }
   ],
   "source": [
    "# Lines below will give you a hint or solution code\n",
    "#q_3.hint()\n",
    "q_3.solution()"
   ]
  },
  {
   "cell_type": "markdown",
   "id": "45e7c123",
   "metadata": {
    "papermill": {
     "duration": 0.006855,
     "end_time": "2023-01-27T10:42:57.131266",
     "exception": false,
     "start_time": "2023-01-27T10:42:57.124411",
     "status": "completed"
    },
    "tags": []
   },
   "source": [
    "# 4) Break Down a Categorical Feature\n",
    "\n",
    "`MSSubClass` describes the type of a dwelling:"
   ]
  },
  {
   "cell_type": "code",
   "execution_count": 8,
   "id": "e31c21d8",
   "metadata": {
    "execution": {
     "iopub.execute_input": "2023-01-27T10:42:57.148500Z",
     "iopub.status.busy": "2023-01-27T10:42:57.147714Z",
     "iopub.status.idle": "2023-01-27T10:42:57.156383Z",
     "shell.execute_reply": "2023-01-27T10:42:57.155022Z"
    },
    "papermill": {
     "duration": 0.020543,
     "end_time": "2023-01-27T10:42:57.158813",
     "exception": false,
     "start_time": "2023-01-27T10:42:57.138270",
     "status": "completed"
    },
    "tags": []
   },
   "outputs": [
    {
     "data": {
      "text/plain": [
       "array(['One_Story_1946_and_Newer_All_Styles', 'Two_Story_1946_and_Newer',\n",
       "       'One_Story_PUD_1946_and_Newer',\n",
       "       'One_and_Half_Story_Finished_All_Ages', 'Split_Foyer',\n",
       "       'Two_Story_PUD_1946_and_Newer', 'Split_or_Multilevel',\n",
       "       'One_Story_1945_and_Older', 'Duplex_All_Styles_and_Ages',\n",
       "       'Two_Family_conversion_All_Styles_and_Ages',\n",
       "       'One_and_Half_Story_Unfinished_All_Ages',\n",
       "       'Two_Story_1945_and_Older', 'Two_and_Half_Story_All_Ages',\n",
       "       'One_Story_with_Finished_Attic_All_Ages',\n",
       "       'PUD_Multilevel_Split_Level_Foyer',\n",
       "       'One_and_Half_Story_PUD_All_Ages'], dtype=object)"
      ]
     },
     "execution_count": 8,
     "metadata": {},
     "output_type": "execute_result"
    }
   ],
   "source": [
    "df.MSSubClass.unique()"
   ]
  },
  {
   "cell_type": "markdown",
   "id": "0708daf5",
   "metadata": {
    "papermill": {
     "duration": 0.006786,
     "end_time": "2023-01-27T10:42:57.172925",
     "exception": false,
     "start_time": "2023-01-27T10:42:57.166139",
     "status": "completed"
    },
    "tags": []
   },
   "source": [
    "You can see that there is a more general categorization described (roughly) by the first word of each category. Create a feature containing only these first words by splitting `MSSubClass` at the first underscore `_`. (Hint: In the `split` method use an argument `n=1`.)"
   ]
  },
  {
   "cell_type": "code",
   "execution_count": 9,
   "id": "18b9ba62",
   "metadata": {
    "execution": {
     "iopub.execute_input": "2023-01-27T10:42:57.189760Z",
     "iopub.status.busy": "2023-01-27T10:42:57.189387Z",
     "iopub.status.idle": "2023-01-27T10:42:57.214611Z",
     "shell.execute_reply": "2023-01-27T10:42:57.213529Z"
    },
    "lines_to_next_cell": 0,
    "papermill": {
     "duration": 0.036361,
     "end_time": "2023-01-27T10:42:57.217017",
     "exception": false,
     "start_time": "2023-01-27T10:42:57.180656",
     "status": "completed"
    },
    "tags": []
   },
   "outputs": [
    {
     "data": {
      "application/javascript": [
       "parent.postMessage({\"jupyterEvent\": \"custom.exercise_interaction\", \"data\": {\"outcomeType\": 1, \"valueTowardsCompletion\": 0.2, \"interactionType\": 1, \"questionType\": 2, \"questionId\": \"4_Q4\", \"learnToolsVersion\": \"0.3.4\", \"failureMessage\": \"\", \"exceptionClass\": \"\", \"trace\": \"\"}}, \"*\")"
      ],
      "text/plain": [
       "<IPython.core.display.Javascript object>"
      ]
     },
     "metadata": {},
     "output_type": "display_data"
    },
    {
     "data": {
      "text/markdown": [
       "<span style=\"color:#33cc33\">Correct</span>"
      ],
      "text/plain": [
       "Correct"
      ]
     },
     "metadata": {},
     "output_type": "display_data"
    }
   ],
   "source": [
    "X_4 = pd.DataFrame()\n",
    "\n",
    "# YOUR CODE HERE\n",
    "X_4[\"MSClass\"] = df.MSSubClass.str.split(\"_\", n=1, expand=True)[0]\n",
    "\n",
    "# Check your answer\n",
    "q_4.check()"
   ]
  },
  {
   "cell_type": "code",
   "execution_count": 10,
   "id": "7218b4b8",
   "metadata": {
    "execution": {
     "iopub.execute_input": "2023-01-27T10:42:57.235081Z",
     "iopub.status.busy": "2023-01-27T10:42:57.234219Z",
     "iopub.status.idle": "2023-01-27T10:42:57.244104Z",
     "shell.execute_reply": "2023-01-27T10:42:57.242643Z"
    },
    "lines_to_next_cell": 0,
    "papermill": {
     "duration": 0.021556,
     "end_time": "2023-01-27T10:42:57.246760",
     "exception": false,
     "start_time": "2023-01-27T10:42:57.225204",
     "status": "completed"
    },
    "tags": []
   },
   "outputs": [
    {
     "data": {
      "application/javascript": [
       "parent.postMessage({\"jupyterEvent\": \"custom.exercise_interaction\", \"data\": {\"interactionType\": 3, \"questionType\": 2, \"questionId\": \"4_Q4\", \"learnToolsVersion\": \"0.3.4\", \"valueTowardsCompletion\": 0.0, \"failureMessage\": \"\", \"exceptionClass\": \"\", \"trace\": \"\", \"outcomeType\": 4}}, \"*\")"
      ],
      "text/plain": [
       "<IPython.core.display.Javascript object>"
      ]
     },
     "metadata": {},
     "output_type": "display_data"
    },
    {
     "data": {
      "text/markdown": [
       "<span style=\"color:#33cc99\">Solution:</span> \n",
       "```python\n",
       "\n",
       "X_4 = pd.DataFrame()\n",
       "\n",
       "X_4[\"MSClass\"] = df.MSSubClass.str.split(\"_\", n=1, expand=True)[0]\n",
       "\n",
       "```"
      ],
      "text/plain": [
       "Solution: \n",
       "```python\n",
       "\n",
       "X_4 = pd.DataFrame()\n",
       "\n",
       "X_4[\"MSClass\"] = df.MSSubClass.str.split(\"_\", n=1, expand=True)[0]\n",
       "\n",
       "```"
      ]
     },
     "metadata": {},
     "output_type": "display_data"
    }
   ],
   "source": [
    "# Lines below will give you a hint or solution code\n",
    "#q_4.hint()\n",
    "q_4.solution()"
   ]
  },
  {
   "cell_type": "markdown",
   "id": "cc61fd37",
   "metadata": {
    "papermill": {
     "duration": 0.007452,
     "end_time": "2023-01-27T10:42:57.262080",
     "exception": false,
     "start_time": "2023-01-27T10:42:57.254628",
     "status": "completed"
    },
    "tags": []
   },
   "source": [
    "# 5) Use a Grouped Transform\n",
    "\n",
    "The value of a home often depends on how it compares to typical homes in its neighborhood. Create a feature `MedNhbdArea` that describes the *median* of `GrLivArea` grouped on `Neighborhood`."
   ]
  },
  {
   "cell_type": "code",
   "execution_count": 11,
   "id": "53c81e94",
   "metadata": {
    "execution": {
     "iopub.execute_input": "2023-01-27T10:42:57.279573Z",
     "iopub.status.busy": "2023-01-27T10:42:57.279151Z",
     "iopub.status.idle": "2023-01-27T10:42:57.299061Z",
     "shell.execute_reply": "2023-01-27T10:42:57.297921Z"
    },
    "lines_to_next_cell": 0,
    "papermill": {
     "duration": 0.032404,
     "end_time": "2023-01-27T10:42:57.302329",
     "exception": false,
     "start_time": "2023-01-27T10:42:57.269925",
     "status": "completed"
    },
    "tags": []
   },
   "outputs": [
    {
     "data": {
      "application/javascript": [
       "parent.postMessage({\"jupyterEvent\": \"custom.exercise_interaction\", \"data\": {\"outcomeType\": 1, \"valueTowardsCompletion\": 0.2, \"interactionType\": 1, \"questionType\": 2, \"questionId\": \"5_Q5\", \"learnToolsVersion\": \"0.3.4\", \"failureMessage\": \"\", \"exceptionClass\": \"\", \"trace\": \"\"}}, \"*\")"
      ],
      "text/plain": [
       "<IPython.core.display.Javascript object>"
      ]
     },
     "metadata": {},
     "output_type": "display_data"
    },
    {
     "data": {
      "text/markdown": [
       "<span style=\"color:#33cc33\">Correct</span>"
      ],
      "text/plain": [
       "Correct"
      ]
     },
     "metadata": {},
     "output_type": "display_data"
    }
   ],
   "source": [
    "X_5 = pd.DataFrame()\n",
    "\n",
    "# YOUR CODE HERE\n",
    "X_5[\"MedNhbdArea\"] = df.groupby(\"Neighborhood\")['GrLivArea'].transform('median')\n",
    "\n",
    "# Check your answer\n",
    "q_5.check()"
   ]
  },
  {
   "cell_type": "code",
   "execution_count": 12,
   "id": "77f66871",
   "metadata": {
    "execution": {
     "iopub.execute_input": "2023-01-27T10:42:57.320907Z",
     "iopub.status.busy": "2023-01-27T10:42:57.320440Z",
     "iopub.status.idle": "2023-01-27T10:42:57.329445Z",
     "shell.execute_reply": "2023-01-27T10:42:57.328220Z"
    },
    "lines_to_next_cell": 0,
    "papermill": {
     "duration": 0.02149,
     "end_time": "2023-01-27T10:42:57.332078",
     "exception": false,
     "start_time": "2023-01-27T10:42:57.310588",
     "status": "completed"
    },
    "tags": []
   },
   "outputs": [
    {
     "data": {
      "application/javascript": [
       "parent.postMessage({\"jupyterEvent\": \"custom.exercise_interaction\", \"data\": {\"interactionType\": 3, \"questionType\": 2, \"questionId\": \"5_Q5\", \"learnToolsVersion\": \"0.3.4\", \"valueTowardsCompletion\": 0.0, \"failureMessage\": \"\", \"exceptionClass\": \"\", \"trace\": \"\", \"outcomeType\": 4}}, \"*\")"
      ],
      "text/plain": [
       "<IPython.core.display.Javascript object>"
      ]
     },
     "metadata": {},
     "output_type": "display_data"
    },
    {
     "data": {
      "text/markdown": [
       "<span style=\"color:#33cc99\">Solution:</span> \n",
       "```python\n",
       "\n",
       "X_5 = pd.DataFrame()\n",
       "\n",
       "X_5[\"MedNhbdArea\"] = df.groupby(\"Neighborhood\")[\"GrLivArea\"].transform(\"median\")\n",
       "\n",
       "```"
      ],
      "text/plain": [
       "Solution: \n",
       "```python\n",
       "\n",
       "X_5 = pd.DataFrame()\n",
       "\n",
       "X_5[\"MedNhbdArea\"] = df.groupby(\"Neighborhood\")[\"GrLivArea\"].transform(\"median\")\n",
       "\n",
       "```"
      ]
     },
     "metadata": {},
     "output_type": "display_data"
    }
   ],
   "source": [
    "# Lines below will give you a hint or solution code\n",
    "#q_5.hint()\n",
    "q_5.solution()"
   ]
  },
  {
   "cell_type": "markdown",
   "id": "f7fb3ee0",
   "metadata": {
    "papermill": {
     "duration": 0.00783,
     "end_time": "2023-01-27T10:42:57.348367",
     "exception": false,
     "start_time": "2023-01-27T10:42:57.340537",
     "status": "completed"
    },
    "tags": []
   },
   "source": [
    "Now you've made your first new feature set! If you like, you can run the cell below to score the model with all of your new features added:"
   ]
  },
  {
   "cell_type": "code",
   "execution_count": 13,
   "id": "04f123cf",
   "metadata": {
    "execution": {
     "iopub.execute_input": "2023-01-27T10:42:57.366705Z",
     "iopub.status.busy": "2023-01-27T10:42:57.366261Z",
     "iopub.status.idle": "2023-01-27T10:43:02.219060Z",
     "shell.execute_reply": "2023-01-27T10:43:02.217728Z"
    },
    "papermill": {
     "duration": 4.86573,
     "end_time": "2023-01-27T10:43:02.222291",
     "exception": false,
     "start_time": "2023-01-27T10:42:57.356561",
     "status": "completed"
    },
    "tags": []
   },
   "outputs": [
    {
     "data": {
      "text/plain": [
       "0.13847331710099203"
      ]
     },
     "execution_count": 13,
     "metadata": {},
     "output_type": "execute_result"
    }
   ],
   "source": [
    "X_new = X.join([X_1, X_2, X_3, X_4, X_5])\n",
    "score_dataset(X_new, y)"
   ]
  },
  {
   "cell_type": "markdown",
   "id": "d21cde6e",
   "metadata": {
    "papermill": {
     "duration": 0.00871,
     "end_time": "2023-01-27T10:43:02.241591",
     "exception": false,
     "start_time": "2023-01-27T10:43:02.232881",
     "status": "completed"
    },
    "tags": []
   },
   "source": [
    "# Keep Going #\n",
    "\n",
    "[**Untangle spatial relationships**](https://www.kaggle.com/ryanholbrook/clustering-with-k-means) by adding cluster labels to your dataset."
   ]
  },
  {
   "cell_type": "markdown",
   "id": "3f518dff",
   "metadata": {
    "papermill": {
     "duration": 0.008194,
     "end_time": "2023-01-27T10:43:02.258725",
     "exception": false,
     "start_time": "2023-01-27T10:43:02.250531",
     "status": "completed"
    },
    "tags": []
   },
   "source": [
    "---\n",
    "\n",
    "\n",
    "\n",
    "\n",
    "*Have questions or comments? Visit the [course discussion forum](https://www.kaggle.com/learn/feature-engineering/discussion) to chat with other learners.*"
   ]
  }
 ],
 "metadata": {
  "kernelspec": {
   "display_name": "Python 3",
   "language": "python",
   "name": "python3"
  },
  "language_info": {
   "codemirror_mode": {
    "name": "ipython",
    "version": 3
   },
   "file_extension": ".py",
   "mimetype": "text/x-python",
   "name": "python",
   "nbconvert_exporter": "python",
   "pygments_lexer": "ipython3",
   "version": "3.7.12"
  },
  "papermill": {
   "default_parameters": {},
   "duration": 17.037243,
   "end_time": "2023-01-27T10:43:03.092556",
   "environment_variables": {},
   "exception": null,
   "input_path": "__notebook__.ipynb",
   "output_path": "__notebook__.ipynb",
   "parameters": {},
   "start_time": "2023-01-27T10:42:46.055313",
   "version": "2.3.4"
  }
 },
 "nbformat": 4,
 "nbformat_minor": 5
}
